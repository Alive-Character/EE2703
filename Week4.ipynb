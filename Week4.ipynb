{
 "cells": [
  {
   "cell_type": "markdown",
   "id": "c91b836c",
   "metadata": {},
   "source": [
    "# Libraries"
   ]
  },
  {
   "cell_type": "code",
   "execution_count": 1,
   "id": "6693c293",
   "metadata": {},
   "outputs": [],
   "source": [
    "import networkx as nx\n",
    "import queue"
   ]
  },
  {
   "cell_type": "markdown",
   "id": "63114724",
   "metadata": {},
   "source": [
    "# Functions"
   ]
  },
  {
   "cell_type": "markdown",
   "id": "3e20c682",
   "metadata": {},
   "source": [
    "## Logic Gates"
   ]
  },
  {
   "cell_type": "code",
   "execution_count": 2,
   "id": "9c8643ad",
   "metadata": {},
   "outputs": [],
   "source": [
    "def OR(k):\n",
    "    A,B = k\n",
    "    if A == None or B == None:\n",
    "        return None\n",
    "    return A|B\n",
    "\n",
    "def AND(k):\n",
    "    A,B = k\n",
    "    if A == None or B == None:\n",
    "        return None\n",
    "    return A & B;\n",
    "\n",
    "def XOR(k):\n",
    "    A,B = k\n",
    "    if A == None or B == None:\n",
    "        return None\n",
    "    return A ^ B\n",
    "\n",
    "def NOT(A):\n",
    "    if type(A) == list:\n",
    "        A = A[0] \n",
    "    if A == None:\n",
    "        return None\n",
    "    return ~A+2\t"
   ]
  },
  {
   "cell_type": "markdown",
   "id": "fdc0e454",
   "metadata": {},
   "source": [
    "All the functions for gate operations have been defined above."
   ]
  },
  {
   "cell_type": "markdown",
   "id": "1bb21097",
   "metadata": {},
   "source": [
    "## Netlist Coversion"
   ]
  },
  {
   "cell_type": "code",
   "execution_count": 3,
   "id": "45eca52b",
   "metadata": {},
   "outputs": [],
   "source": [
    "def NetlistConvert(file_path):\n",
    "    with open(file_path, 'r') as file:\n",
    "            netlist = file.readlines()\n",
    "    net =[] \n",
    "    t = 0\n",
    "    for line in netlist:\n",
    "            linesplit = line.split(\"#\")[0].split('\\n')[0].split('  ')\n",
    "            net.append(linesplit[0])\n",
    "    return net"
   ]
  },
  {
   "cell_type": "markdown",
   "id": "0f4bb1c9",
   "metadata": {},
   "source": [
    "This function converts each line of the netlist into a string and appends it into a list giving a list of all lines in the netlist"
   ]
  },
  {
   "cell_type": "markdown",
   "id": "5dfc1267",
   "metadata": {},
   "source": [
    "## NxConvert"
   ]
  },
  {
   "cell_type": "code",
   "execution_count": 4,
   "id": "abedaf3c",
   "metadata": {},
   "outputs": [],
   "source": [
    "def NxConvert(netlist):\n",
    "        ele,pri = set(),set()\n",
    "        a = {}\n",
    "        b = []\n",
    "        for line in netlist:\n",
    "            split_line = line.split()\n",
    "            if len(split_line ) == 5:\n",
    "                gate_id, gate_type, input1, input2, output = split_line\n",
    "                ele.add(output)\n",
    "                pri.add(input1)\n",
    "                pri.add(input2)\n",
    "                a.update({output : gate_type})\n",
    "                b.append((input1,output))\n",
    "                b.append((input2,output))\n",
    "            \n",
    "            if len(split_line)== 4:\n",
    "                gate_id, gate_type, input1, output = split_line\n",
    "                ele.add(output)\n",
    "                pri.add(input1)\n",
    "                a.update({output : gate_type})\n",
    "                b.append((input1,output))\n",
    "            \n",
    "            primary = pri-ele\n",
    "            for k in primary:\n",
    "                a.update({k : \"PI\"})\n",
    "        return a,b"
   ]
  },
  {
   "cell_type": "markdown",
   "id": "874d5a09",
   "metadata": {},
   "source": [
    "This `NxConvert` function creates a dict of the output and corresponding gate and another list of all the edges of the network."
   ]
  },
  {
   "cell_type": "markdown",
   "id": "64f416e8",
   "metadata": {},
   "source": [
    "## Input Reading"
   ]
  },
  {
   "cell_type": "code",
   "execution_count": 5,
   "id": "3f477638",
   "metadata": {},
   "outputs": [],
   "source": [
    "def Input(file_path):\n",
    "    with open(file_path, 'r') as file:\n",
    "            inp = file.readlines()\n",
    "    val = inp[0].split()\n",
    "    dic = {k : [] for k in val}\n",
    "    inp.pop(0)\n",
    "    for line in inp:\n",
    "        l = line.split()\n",
    "        for i in range(len(l)):\n",
    "            dic[val[i]].append(int(l[i]))\n",
    "    return dic\n"
   ]
  },
  {
   "cell_type": "markdown",
   "id": "bbf76819",
   "metadata": {},
   "source": [
    "This function is used to read the *.input* files and covert them into a dictionaries of lists"
   ]
  },
  {
   "cell_type": "markdown",
   "id": "2cd0b8d2",
   "metadata": {},
   "source": [
    "## Evaluation"
   ]
  },
  {
   "cell_type": "code",
   "execution_count": 6,
   "id": "501c9af9",
   "metadata": {},
   "outputs": [],
   "source": [
    "def Evaluate(gate,k):\n",
    "        if gate == 'nand2':\n",
    "            value = NOT(AND(k))\n",
    "        elif gate == 'or2':\n",
    "            value = OR(k)\n",
    "        elif gate == 'and2':\n",
    "            value = AND(k)\n",
    "        elif gate == 'nor2':\n",
    "            value = NOT(OR(k))\n",
    "        elif gate == 'inv':\n",
    "            value = NOT(k)\n",
    "        elif gate == 'xor2':\n",
    "            value = XOR(k)\n",
    "        elif gate == 'xnor2':\n",
    "            value = NOT(XOR(k))\n",
    "        else:\n",
    "            if type(k) == list:\n",
    "                k = k[0]\n",
    "            value = k\n",
    "        return value"
   ]
  },
  {
   "cell_type": "markdown",
   "id": "cdc8358c",
   "metadata": {},
   "source": [
    "This function is used for evaluation of the Logic Gates"
   ]
  },
  {
   "cell_type": "markdown",
   "id": "83e572e9",
   "metadata": {},
   "source": [
    "# Topologically ordered evaluation"
   ]
  },
  {
   "cell_type": "code",
   "execution_count": 7,
   "id": "db3727db",
   "metadata": {},
   "outputs": [],
   "source": [
    "def TopCalc(a,b,val):\n",
    "    g = nx.DiGraph()\n",
    "    g.add_edges_from(b)\n",
    "    nx.set_node_attributes(g,a,name=\"Gate\")\n",
    "    top = list(nx.topological_sort(g))\n",
    "\n",
    "    for n in top:\n",
    "        pred =  list(g.predecessors(n))\n",
    "        try:\n",
    "            k = (val[pred[0]],val[pred[1]])\n",
    "        except IndexError:\n",
    "            try:\n",
    "                k = val[pred[0]]\n",
    "            except IndexError:\n",
    "                continue\n",
    "        ans = Evaluate(a[n],k)\n",
    "        val.update({n : ans})\n",
    "    return val"
   ]
  },
  {
   "cell_type": "markdown",
   "id": "9ebc542d",
   "metadata": {},
   "source": [
    "This function creates a topologically ordered network of the netlist and evaluates the values of the outputs based on this and returns a dict of all the values"
   ]
  },
  {
   "cell_type": "code",
   "execution_count": 8,
   "id": "5e563e4f",
   "metadata": {},
   "outputs": [],
   "source": [
    "def FinalCalc(filename1,filename2):\n",
    "    net = NetlistConvert(filename1)\n",
    "    a,b = NxConvert(net)\n",
    "    dic = Input(filename2)\n",
    "    out = []\n",
    "    for key, value in dic.items():\n",
    "        k = len(value)\n",
    "    for i in range(k):\n",
    "        val = {key: value[i] for key, value in dic.items()}\n",
    "        try:\n",
    "            out.append(TopCalc(a,b,val))\n",
    "        except:\n",
    "            print(f\"For {filename1}, The system contains a cycle. Out of the domain of this code\")\n",
    "            return None    \n",
    "    return out"
   ]
  },
  {
   "cell_type": "markdown",
   "id": "fbf90f9a",
   "metadata": {},
   "source": [
    "This fuction is a combination of all the previous function where it creates a list of dicts for every row of outputs"
   ]
  },
  {
   "cell_type": "code",
   "execution_count": 9,
   "id": "acfefbec",
   "metadata": {},
   "outputs": [],
   "source": [
    "def Topological(filename1,filename2,filename3):\n",
    "    answer = FinalCalc(filename1,filename2)\n",
    "    ans = []\n",
    "    if answer != None:\n",
    "        for i in range(len(answer)):\n",
    "            sorted_keys = sorted(answer[4].keys())\n",
    "            k = {key : answer[i][key] for key in sorted_keys}\n",
    "            ans.append(k)\n",
    "        with open(filename3 , \"w\") as f:\n",
    "            for t in ans[0]:\n",
    "                f.write(str(t)+' ')\n",
    "            f.write('\\n')\n",
    "            for i in range(len(ans)):\n",
    "                for t in ans[i]:\n",
    "                    f.write(str(ans[i][t])+\"  \")\n",
    "                f.write('\\n')\n",
    "    return ans\n"
   ]
  },
  {
   "cell_type": "markdown",
   "id": "0dafce7a",
   "metadata": {},
   "source": [
    "This function takes the lidt of dicts in previous functions, sorts the keys of dicts in alphabetical order and writes the output into a chosen file "
   ]
  },
  {
   "cell_type": "markdown",
   "id": "22cf8cab",
   "metadata": {},
   "source": [
    "# Event-driven evaluation"
   ]
  },
  {
   "cell_type": "code",
   "execution_count": 10,
   "id": "ce8b40a3",
   "metadata": {},
   "outputs": [],
   "source": [
    "def Queue(file1,file2):\n",
    "    net = NetlistConvert(file1)\n",
    "    a,b = NxConvert(net)\n",
    "    states = {key: None for key in a}\n",
    "    ans = []\n",
    "    inp = Input(file2)\n",
    "\n",
    "    g = nx.DiGraph()\n",
    "    g.add_edges_from(b)\n",
    "    nx.set_node_attributes(g,a,name=\"Gate\")\n",
    "\n",
    "    q = queue.Queue()\n",
    "    for key, value in inp.items():\n",
    "        k = len(value)\n",
    "    for j in range(k):\n",
    "        val = {key: value[j] for key, value in inp.items()}\n",
    "        if j == 0:\n",
    "            for i in val:\n",
    "                q.put(i)\n",
    "            while q.empty() == False:\n",
    "                qout = q.get()\n",
    "                pre = list(g.predecessors(qout))\n",
    "                if len(pre) == 0:\n",
    "                    states[qout] = val[qout]\n",
    "                else:\n",
    "                    k = [states[i] for i in pre]\n",
    "                    if len(k) == 1 and k[0] != None:\n",
    "                        k = int(k[0])\n",
    "                    states[qout] = Evaluate(a[qout],k)\n",
    "                succ = list(g.successors(qout))\n",
    "                for i in succ:\n",
    "                    q.put(i)\n",
    "\n",
    "        else:\n",
    "            for i in val:\n",
    "                if val[i] != states[i]:\n",
    "                    q.put(i)\n",
    "            while q.empty() == False:\n",
    "                qout = q.get()\n",
    "                pre = list(g.predecessors(qout))\n",
    "                if len(pre) == 0:\n",
    "                    states[qout] = val[qout]\n",
    "                else:\n",
    "                    k = [states[i] for i in pre]\n",
    "                    states[qout] = Evaluate(a[qout],k)\n",
    "                succ = list(g.successors(qout))\n",
    "                for i in succ:\n",
    "                    q.put(i)\n",
    "        sorted_keys = sorted(states.keys())\n",
    "        k = {key : states[key] for key in sorted_keys}\n",
    "        ans.append(k)\n",
    "    return ans\n"
   ]
  },
  {
   "cell_type": "markdown",
   "id": "2a524642",
   "metadata": {},
   "source": [
    "- This function carries out a event based output simulation where first the primary inputs are added to the queue and then as each element is popped out of the queue its successors are added to the queueand output is evaluated.\n",
    "- For the changing inputs, only primary inputs whose values have been changed have been added and the same idea is repeated"
   ]
  },
  {
   "cell_type": "code",
   "execution_count": 11,
   "id": "e760a249",
   "metadata": {},
   "outputs": [],
   "source": [
    "def QueuePrint(filename1,filename2,filename3):\n",
    "    ans = Queue(filename1,filename2)\n",
    "    if ans != None:\n",
    "        with open(filename3 , \"w\") as f:\n",
    "            for t in ans[0]:\n",
    "                f.write(str(t)+' ')\n",
    "            f.write('\\n')\n",
    "            for i in range(len(ans)):\n",
    "                for t in ans[i]:\n",
    "                    f.write(str(ans[i][t])+\"  \")\n",
    "                f.write('\\n')\n",
    "    return ans\n",
    "b = QueuePrint('c8.net','c8.inputs','c8q.out')\n"
   ]
  },
  {
   "cell_type": "markdown",
   "id": "c9676bcd-74d6-47c5-a70d-005b1d1c6b04",
   "metadata": {},
   "source": [
    "# Outputs"
   ]
  },
  {
   "cell_type": "markdown",
   "id": "d78732ad-ebe1-46be-a18e-8c0b2de7cd11",
   "metadata": {},
   "source": [
    "## Topological"
   ]
  },
  {
   "cell_type": "code",
   "execution_count": 32,
   "id": "a77359c6-7889-45f7-acd9-c0c6312c7c38",
   "metadata": {},
   "outputs": [
    {
     "name": "stdout",
     "output_type": "stream",
     "text": [
      "For c17_1.net, The system contains a cycle. Out of the domain of this code\n"
     ]
    }
   ],
   "source": [
    "a = Topological('c17.net','c17.inputs','c17.out')\n",
    "b = Topological('c8.net','c8.inputs','c8.out')\n",
    "c = Topological('parity.net','parity.inputs','parity.out')\n",
    "d = Topological('c17_1.net','c17.inputs','c17.out')"
   ]
  },
  {
   "cell_type": "markdown",
   "id": "b280edc5-6bbb-4288-92c6-6e0b8652fa57",
   "metadata": {},
   "source": [
    "## Event Driven"
   ]
  },
  {
   "cell_type": "code",
   "execution_count": 12,
   "id": "7377d4f8-2a62-4ad9-9e72-4813b023061a",
   "metadata": {},
   "outputs": [],
   "source": [
    "a = QueuePrint('c432.net','c432.inputs','c432q.txt')"
   ]
  },
  {
   "cell_type": "markdown",
   "id": "244606d8-33b7-43ac-9886-51fe05475fd6",
   "metadata": {},
   "source": [
    " "
   ]
  },
  {
   "cell_type": "code",
   "execution_count": 13,
   "id": "a426930e",
   "metadata": {},
   "outputs": [
    {
     "name": "stdout",
     "output_type": "stream",
     "text": [
      "39 s ± 599 ms per loop (mean ± std. dev. of 7 runs, 1 loop each)\n"
     ]
    }
   ],
   "source": [
    "%timeit QueuePrint('c432.net','c432.inputs','c432q.out')"
   ]
  },
  {
   "cell_type": "markdown",
   "id": "64412f43",
   "metadata": {},
   "source": [
    "- **Topologically ordered evaluation** is a more straightforward and predictable approach. We can estimate the time taken by it even if we change a few lines in the netlist so as to complicate the DiGraph. It iterates over all the nodes every single time.\n",
    "\n",
    "- For an **Event based evaluation**, it is not as straightforward, it iterates over the successors of each input and its successors and the successors of its successors. It can be efficient in some cases but can also be more complex and time- taking in others.   \n",
    "\n",
    "- As we can see above, time taken by Topologically ordered evaluation is smaller than that of Event based evaluation. This I believe is because there are not enough nodes in place for the event based evaluation to actually cause a significant efficiency increase.    \n",
    "\n",
    "- If there are about 100 primary inputs then I believe in the evaluation of the time changing input, the time for topological evaluation will shoot up whereas time for event based evaluation would be comparable"
   ]
  }
 ],
 "metadata": {
  "kernelspec": {
   "display_name": "Python 3 (ipykernel)",
   "language": "python",
   "name": "python3"
  },
  "language_info": {
   "codemirror_mode": {
    "name": "ipython",
    "version": 3
   },
   "file_extension": ".py",
   "mimetype": "text/x-python",
   "name": "python",
   "nbconvert_exporter": "python",
   "pygments_lexer": "ipython3",
   "version": "3.11.1"
  }
 },
 "nbformat": 4,
 "nbformat_minor": 5
}
