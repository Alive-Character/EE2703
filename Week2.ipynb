{
 "cells": [
  {
   "cell_type": "markdown",
   "id": "1e86f5e8",
   "metadata": {},
   "source": [
    "# Libraries\n"
   ]
  },
  {
   "cell_type": "code",
   "execution_count": 7,
   "id": "d132997a",
   "metadata": {},
   "outputs": [],
   "source": [
    "import numpy as np\n",
    "import math"
   ]
  },
  {
   "cell_type": "markdown",
   "id": "d685a233",
   "metadata": {},
   "source": [
    "# Factorial and Timeit\n"
   ]
  },
  {
   "cell_type": "markdown",
   "id": "5b3f7041",
   "metadata": {},
   "source": [
    "## Recursive Algorithm"
   ]
  },
  {
   "cell_type": "code",
   "execution_count": 2,
   "id": "8c62aa6f",
   "metadata": {
    "scrolled": true
   },
   "outputs": [
    {
     "name": "stdout",
     "output_type": "stream",
     "text": [
      "190\n",
      "25.8 µs ± 52.2 ns per loop (mean ± std. dev. of 7 runs, 10,000 loops each)\n"
     ]
    }
   ],
   "source": [
    "x = np.random.randint(0,1000)\n",
    "def factorial(n):\n",
    "    if n == 0 or n == 1:\n",
    "        return 1\n",
    "    else:\n",
    "        return n*factorial(n-1)\n",
    "print(x)\n",
    "%timeit factorial(x)"
   ]
  },
  {
   "cell_type": "markdown",
   "id": "ba25ac1e",
   "metadata": {},
   "source": [
    "## For Loops\n"
   ]
  },
  {
   "cell_type": "code",
   "execution_count": 3,
   "id": "360116cd",
   "metadata": {},
   "outputs": [
    {
     "name": "stdout",
     "output_type": "stream",
     "text": [
      "190\n",
      "15.1 µs ± 33.3 ns per loop (mean ± std. dev. of 7 runs, 100,000 loops each)\n"
     ]
    }
   ],
   "source": [
    "def factorial(n):\n",
    "    fac = 1\n",
    "    for i in range(2,n+1):\n",
    "        fac = fac*i\n",
    "    return fac\n",
    "print(x)\n",
    "%timeit factorial(x)"
   ]
  },
  {
   "cell_type": "markdown",
   "id": "c60800c6",
   "metadata": {},
   "source": [
    "We can see that the recursive algorith takes more time than the for loop. This is because the recursion algorithm recalls the function n times which takes more time than iteration because it iterates all lines of code again n times where iteration repeats just a single line n times.\n"
   ]
  },
  {
   "cell_type": "markdown",
   "id": "914410ee",
   "metadata": {},
   "source": [
    "# Linear Equation Solver\n"
   ]
  },
  {
   "cell_type": "markdown",
   "id": "84c9aec5",
   "metadata": {},
   "source": [
    "## Shuffle:"
   ]
  },
  {
   "cell_type": "code",
   "execution_count": 8,
   "id": "40930503",
   "metadata": {},
   "outputs": [],
   "source": [
    "def Shuffle(A,B):\n",
    "    n = len(A)\n",
    "    f = [k for k in range(n)]\n",
    "    for i in range(n):\n",
    "            max_val = abs(A[i][i])\n",
    "            row = i\n",
    "            for j in range(i+1,n):\n",
    "                if abs(A[j][i]) > max_val:\n",
    "                    max_val = abs(A[j][i])\n",
    "                    row = j\n",
    "            A[row],A[i] = A[i],A[row]\n",
    "            B[row],B[i] = B[i],B[row]\n",
    "            f[row],f[i] = f[i],f[row]\n",
    "    #print(f\"A = {A}\")\n",
    "    #print(f\"B = {B}\")\n",
    "    return A,B"
   ]
  },
  {
   "cell_type": "markdown",
   "id": "d7e28d7f",
   "metadata": {},
   "source": [
    "I am using shuffle here which takes the maximum value of a column below the current row and pushes it into the current location. This is to avoid any consistent set of eqn being treated inconsistent due to a zero in the diagonal element"
   ]
  },
  {
   "cell_type": "markdown",
   "id": "bed2c0a0",
   "metadata": {},
   "source": [
    "## Upper Triangle:"
   ]
  },
  {
   "cell_type": "code",
   "execution_count": 9,
   "id": "6d64dfdd",
   "metadata": {},
   "outputs": [],
   "source": [
    "def UpperTriangle(A,B):\n",
    "    n = len(A)\n",
    "    for i in range(n):\n",
    "        for j in range(i+1,n):\n",
    "            norm = A[j][i] / A[i][i]\n",
    "            for k in range(len(A[i])): A[j][k] = A[j][k] - A[i][k] * norm\n",
    "            B[j] = B[j] - B[i] * norm\n",
    "            #print(A,B)\n",
    "    #print(\"Resultant Upper Triangle:\")\n",
    "    #print(f\"A = {A}\")\n",
    "    #print(f\"B = {B}\")\n",
    "    return A,B"
   ]
  },
  {
   "cell_type": "markdown",
   "id": "122b74d2",
   "metadata": {},
   "source": [
    "Creates a upper tringular matrix from the previous matrix"
   ]
  },
  {
   "cell_type": "markdown",
   "id": "29c29295",
   "metadata": {},
   "source": [
    "## Normalise:"
   ]
  },
  {
   "cell_type": "code",
   "execution_count": 10,
   "id": "66fe33d2",
   "metadata": {},
   "outputs": [],
   "source": [
    "def Normalise(A,B):\n",
    "    n = len(A)\n",
    "    for i in range(n):\n",
    "        norm = A[i][i]\n",
    "        for j in range(n):\n",
    "            A[i][j] = A[i][j]/norm\n",
    "        B[i] = B[i]/norm\n",
    "    #print(\"Normalised Upper Triangle:\")\n",
    "    #print(f\"A = {A}\")\n",
    "    #print(f\"B = {B}\")\n",
    "    return A,B"
   ]
  },
  {
   "cell_type": "markdown",
   "id": "bc57fc3f",
   "metadata": {},
   "source": [
    "It makes all the diagonal elements of the matrix 1 which makes it easier for back substitution in the next step"
   ]
  },
  {
   "cell_type": "markdown",
   "id": "0ed65c26",
   "metadata": {},
   "source": [
    "## Solver:\n"
   ]
  },
  {
   "cell_type": "code",
   "execution_count": 11,
   "id": "94a313bb",
   "metadata": {},
   "outputs": [],
   "source": [
    "def Solver(A,B):    \n",
    "    n = len(A)\n",
    "    for i in reversed(range(n)):\n",
    "        for j in range(i):\n",
    "            B[j] = B[j] - B[i]*A[j][i]\n",
    "            A[j][i] = A[j][i] - A[i][i]*A[j][i]\n",
    "\n",
    "    #print(\"Final Matrix:\")\n",
    "    #print(f\"A = {A}\")\n",
    "    #print(f\"B = {B}\")\n",
    "    return B"
   ]
  },
  {
   "cell_type": "markdown",
   "id": "ff599740",
   "metadata": {},
   "source": [
    "It back substitutes the matrix from the last row to the first to find the solution of equations"
   ]
  },
  {
   "cell_type": "markdown",
   "id": "ae2aaf53",
   "metadata": {},
   "source": [
    "## Check Solution:"
   ]
  },
  {
   "cell_type": "code",
   "execution_count": 12,
   "id": "c53d1b72",
   "metadata": {},
   "outputs": [],
   "source": [
    "def CheckSolution(a,b):\n",
    "    k = []\n",
    "    n = len(a)\n",
    "    for i in range(n):\n",
    "        if a[i][i] == 0: k.append(i)\n",
    "    for j in k:\n",
    "        for i in range(n):\n",
    "            if a[j][i] != 0:\n",
    "                norm = a[j][i]/a[i][i]\n",
    "                a[j][i] = a[j][i] - a[i][i]*norm\n",
    "                b[j] = b[j] - b[i]*norm\n",
    "\n",
    "        if abs(b[j]) < 1/1000 and b[j] != 0:\n",
    "            b[j] = 0\n",
    "\n",
    "    for j in k:\n",
    "        if b[j] != 0:\n",
    "            print(\"System is inconsistent and has no solutions\")\n",
    "            break\n",
    "        else:\n",
    "            if j == k[len(k)-1]: print(\"System is inconsistent and has infinite solutions\")"
   ]
  },
  {
   "cell_type": "markdown",
   "id": "b626d8dc",
   "metadata": {},
   "source": [
    "Here, if the diagonal element of the upper triangular is 0. It means that the matrix is not singular i.e it is not consistent. \n",
    "- If, the row where the diagonal element is 0 has the value of b[row] as 0 that means there are infinite solutions.  \n",
    "- Else, the matrix has no solutions"
   ]
  },
  {
   "cell_type": "markdown",
   "id": "c5c43f22",
   "metadata": {},
   "source": [
    "## Matrix Solver:"
   ]
  },
  {
   "cell_type": "code",
   "execution_count": 13,
   "id": "4a6dad9c",
   "metadata": {},
   "outputs": [],
   "source": [
    "def GaussianSolver(A,B):\n",
    "    a,b = Shuffle(A,B)\n",
    "    n = len(a)\n",
    "    try:\n",
    "        a,b = UpperTriangle(a,b)\n",
    "        a,b = Normalise(a,b)\n",
    "    except ZeroDivisionError:\n",
    "        CheckSolution(a,b)\n",
    "        return None\n",
    "    else:\n",
    "        answer = Solver(a,b)\n",
    "        return answer\n"
   ]
  },
  {
   "cell_type": "markdown",
   "id": "5c1d60aa",
   "metadata": {},
   "source": [
    "If the diagonal element is 0, it gives a ZeroDivisionError in the above steps. Hence, the matrix is checked for consistency."
   ]
  },
  {
   "cell_type": "code",
   "execution_count": 14,
   "id": "f911356f",
   "metadata": {},
   "outputs": [
    {
     "name": "stdout",
     "output_type": "stream",
     "text": [
      "[1.3651696761291858, -3.0600446989781602, 5.218612570129981, -0.2505024800820734, -1.5033342156866816, 1.2177696798156612, 0.7825781354760977, -3.2112512130385484, -1.3065056821452976, -1.049223811637291]\n"
     ]
    }
   ],
   "source": [
    "A = np.random.rand(10,10)\n",
    "B = np.random.rand(10)\n",
    "a = A.tolist()\n",
    "b = B.tolist()\n",
    "print(GaussianSolver(a,b))\n"
   ]
  },
  {
   "cell_type": "markdown",
   "id": "d14d8925",
   "metadata": {},
   "source": [
    "# Netlist Conversion"
   ]
  },
  {
   "cell_type": "code",
   "execution_count": 2,
   "id": "20d92d23",
   "metadata": {},
   "outputs": [
    {
     "name": "stdout",
     "output_type": "stream",
     "text": [
      "['R1 GND 1 1e3', 'R2 1 2 4e3', 'R3 2 GND 20e3', 'R4 2 3 8e3', 'R5 GND 4 10e3', 'V1 GND 4 dc 5']\n"
     ]
    }
   ],
   "source": [
    "def NetlistConvert(file_path):\n",
    "    with open(file_path, 'r') as file:\n",
    "            netlist = file.readlines()\n",
    "    net =[] \n",
    "    t = 0\n",
    "    for line in netlist:\n",
    "        if line[0:2] == \".a\": t = 1\n",
    "        if line[0:2] == \".e\": t = 0\n",
    "        if t == 1:\n",
    "            linesplit = line.split(\"#\")[0].split('\\n')[0].split('  ')\n",
    "            net.append(linesplit[0])\n",
    "        if line[0:2] == \".c\": t = 1\n",
    "    return net\n",
    "net = NetlistConvert('ckt1.netlist')\n",
    "print(net)"
   ]
  },
  {
   "cell_type": "code",
   "execution_count": 3,
   "id": "46ee8d93",
   "metadata": {},
   "outputs": [],
   "source": [
    "def MatrixSizeInc(MNA,b):\n",
    "            k = np.zeros((1,MNA.shape[1]))\n",
    "            m = np.zeros((MNA.shape[0]+1,1))\n",
    "            l = [0]\n",
    "            MNA = np.vstack((MNA,k))\n",
    "            MNA = np.hstack((MNA,m))\n",
    "            b = np.vstack((b,l))\n",
    "            return MNA,b\n"
   ]
  },
  {
   "cell_type": "markdown",
   "id": "dae45a28",
   "metadata": {},
   "source": [
    "To convert a (n x n) matrix to a (n+1 x n+1) matrix"
   ]
  },
  {
   "cell_type": "code",
   "execution_count": 4,
   "id": "ab91963c",
   "metadata": {},
   "outputs": [],
   "source": [
    "def addRes(MNAdc,value,i,j):\n",
    "            MNAdc[i][i] += 1/float(value)\n",
    "            MNAdc[j][j] += 1/float(value)\n",
    "            MNAdc[i][j] -= 1/float(value)\n",
    "            MNAdc[j][i] -= 1/float(value)\n",
    "            return MNAdc"
   ]
  },
  {
   "cell_type": "code",
   "execution_count": 5,
   "id": "00a61dc8",
   "metadata": {},
   "outputs": [],
   "source": [
    "def create_MNA_matrix(netlist):\n",
    "    nodes = set()\n",
    "    components = []\n",
    "    v_type = set()\n",
    "    k = 0\n",
    "    t = complex(0,1)\n",
    "    freq = 0\n",
    "    \n",
    "    if netlist[-1].startswith(\".ac\"):\n",
    "        split = netlist[-1].split()\n",
    "        freq = float(split[2])*2*math.pi\n",
    "    for line in netlist:\n",
    "        split_line = line.split()\n",
    "        if len(split_line) == 3:\n",
    "            continue\n",
    "        component_type = split_line[0]\n",
    "        nodes.update([split_line[1], split_line[2]])\n",
    "        try: \n",
    "            components.append((component_type, split_line[1], split_line[2], split_line[3],split_line[4]))\n",
    "        except IndexError:\n",
    "            try:\n",
    "                components.append((component_type, split_line[1], split_line[2], split_line[3]))\n",
    "            except IndexError:\n",
    "                components.append((component_type, split_line[1], split_line[2], split_line[3],split_line[4],split_line[5]))\n",
    "\n",
    "\n",
    "    \n",
    "    node_dict = {node: i for i, node in enumerate(nodes)}\n",
    "    \n",
    "    num_nodes = len(nodes)\n",
    "    num_components = len(components)\n",
    "    \n",
    "    MNA = np.zeros((num_nodes, num_nodes))\n",
    "    b = np.zeros((num_nodes,1))\n",
    "    if freq !=0:\n",
    "        MNA = np.zeros((num_nodes, num_nodes))*t\n",
    "        b = np.zeros((num_nodes,1))*t\n",
    "    \n",
    "\n",
    "    for component in components:\n",
    "        try:\n",
    "            component_type, node1, node2, acdc ,value = component\n",
    "        except ValueError:\n",
    "            try:\n",
    "                component_type, node1, node2,value = component\n",
    "            except ValueError:\n",
    "                component_type, node1, node2, acdc ,value, phase = component\n",
    "        \n",
    "        i = node_dict[node1]\n",
    "        j = node_dict[node2]\n",
    "        k = node_dict[\"GND\"]\n",
    "        if component_type[0] == 'R':\n",
    "            MNAdc = addRes(MNA,value,i,j)\n",
    "        \n",
    "        elif component_type[0] == 'I':\n",
    "            v_type.update([acdc])\n",
    "            \n",
    "            if acdc.startswith(\"dc\"):\n",
    "                b[i] -= float(value)\n",
    "                b[j] += float(value)\n",
    "            \n",
    "            if acdc.startswith(\"ac\"):\n",
    "                b[i] -= float(value)\n",
    "                b[j] += float(value)\n",
    "        \n",
    "        elif component_type[0] == 'V':\n",
    "            v_type.update([acdc])\n",
    "            \n",
    "            if acdc.startswith(\"dc\"):\n",
    "                MNA,b = MatrixSizeInc(MNA,b)\n",
    "                l = MNA.shape[0]-1\n",
    "                MNA[l][i] += 1\n",
    "                MNA[l][j] -= 1\n",
    "                MNA[i][l] += 1\n",
    "                MNA[j][l] -= 1\n",
    "                b[l] -= float(value)\n",
    "            \n",
    "            if acdc.startswith(\"ac\"):\n",
    "                MNA,b = MatrixSizeInc(MNA,b)\n",
    "                l = MNA.shape[0]-1\n",
    "                MNA[l][i] += 1\n",
    "                MNA[l][j] -= 1\n",
    "                MNA[i][l] += 1\n",
    "                MNA[j][l] -= 1\n",
    "                b[l] -= float(value)\n",
    "\n",
    "        elif component_type[0] == 'C':\n",
    "            if freq == 0:\n",
    "                print(\"This function cannot compute DC circuit with a capacitance\")\n",
    "                return None\n",
    "            MNA[i][i] += t*float(value)*freq\n",
    "            MNA[j][j] += t*float(value)*freq\n",
    "            MNA[i][j] -= t*float(value)*freq\n",
    "            MNA[j][i] -= t*float(value)*freq\n",
    "        \n",
    "        elif component_type[0] == 'L':\n",
    "            if freq == 0:\n",
    "                print(\"This function cannot compute DC circuit with a capacitance\")\n",
    "                return None\n",
    "            MNA[i][i] += 1/t*float(value)*freq\n",
    "            MNA[j][j] += 1/t*float(value)*freq\n",
    "            MNA[i][j] -= 1/t*float(value)*freq\n",
    "            MNA[j][i] -= 1/t*float(value)*freq\n",
    "\n",
    "    b = np.squeeze(b)\n",
    "    MNA = np.delete(MNA, k, axis=0)\n",
    "    MNA = np.delete(MNA, k, axis=1)\n",
    "\n",
    "    b = np.delete(b, k)\n",
    "    v_type = list(v_type)\n",
    "    \n",
    "    if len(v_type) == 1 and v_type[0] == 'dc':\n",
    "        return MNA, b, node_dict,0 \n",
    "    elif len(v_type) == 1 and v_type[0] == 'ac':\n",
    "        return MNA, b, node_dict,1 \n",
    "    else:\n",
    "        return(\"The code doesn't work for DC+AC supply\") \n"
   ]
  },
  {
   "cell_type": "markdown",
   "id": "e24d0573",
   "metadata": {},
   "source": [
    "- This code implements a function that reads an electrical netlist and creates MNAac and MNAdc and bac and bdc to solve for the voltages and currents in an AC and DC circuit.  \n",
    "- The function splits each line in the netlist and processes components one-by-one, updating the MNA and b arrays based on the type of component. The MNA matrices contain information about the interconnections between the components and the b arrays contain the independent source information. \n",
    "- The frequency information is taken from the netlist and used in the calculation of components such as capacitors and inductors.  \n",
    "- The function is implemented to handle resistors, current sources, voltage sources, capacitors, and inductors, and returns None if the function encounters a DC circuit with a capacitor,inductor.\n",
    "\n",
    "\n",
    "\n"
   ]
  },
  {
   "cell_type": "code",
   "execution_count": 1,
   "id": "e21ea768",
   "metadata": {},
   "outputs": [
    {
     "ename": "NameError",
     "evalue": "name 'NetlistConvert' is not defined",
     "output_type": "error",
     "traceback": [
      "\u001b[0;31m---------------------------------------------------------------------------\u001b[0m",
      "\u001b[0;31mNameError\u001b[0m                                 Traceback (most recent call last)",
      "Cell \u001b[0;32mIn[1], line 1\u001b[0m\n\u001b[0;32m----> 1\u001b[0m net \u001b[38;5;241m=\u001b[39m \u001b[43mNetlistConvert\u001b[49m(\u001b[38;5;124m'\u001b[39m\u001b[38;5;124mckt1.netlist\u001b[39m\u001b[38;5;124m'\u001b[39m)\n\u001b[1;32m      2\u001b[0m \u001b[38;5;28;01mtry\u001b[39;00m:\n\u001b[1;32m      3\u001b[0m         V,b,nodes,check \u001b[38;5;241m=\u001b[39m create_MNA_matrix(net)\n",
      "\u001b[0;31mNameError\u001b[0m: name 'NetlistConvert' is not defined"
     ]
    }
   ],
   "source": [
    "net = NetlistConvert('ckt1.netlist')\n",
    "try:\n",
    "        V,b,nodes,check = create_MNA_matrix(net)\n",
    "        k = nodes['GND']\n",
    "        V = V.tolist()\n",
    "        b = b.tolist()\n",
    "        a = cGaussianSolver(V,b)\n",
    "        del a[k]\n",
    "        del nodes['GND']\n",
    "        if check == 0:\n",
    "            print(f\"DC :{a}\\nNodes:{nodes}\")\n",
    "        if check == 1:\n",
    "            print(f\"AC :{a}\\nNodes:{nodes}\")\n",
    "except ValueError:\n",
    "        a = create_MNA_matrix(net)\n",
    "        pass\n"
   ]
  },
  {
   "cell_type": "code",
   "execution_count": null,
   "id": "b2a667e6",
   "metadata": {},
   "outputs": [],
   "source": []
  }
 ],
 "metadata": {
  "kernelspec": {
   "display_name": "Python 3 (ipykernel)",
   "language": "python",
   "name": "python3"
  },
  "language_info": {
   "codemirror_mode": {
    "name": "ipython",
    "version": 3
   },
   "file_extension": ".py",
   "mimetype": "text/x-python",
   "name": "python",
   "nbconvert_exporter": "python",
   "pygments_lexer": "ipython3",
   "version": "3.11.1"
  },
  "vscode": {
   "interpreter": {
    "hash": "aee8b7b246df8f9039afb4144a1f6fd8d2ca17a180786b69acc140d282b71a49"
   }
  }
 },
 "nbformat": 4,
 "nbformat_minor": 5
}
